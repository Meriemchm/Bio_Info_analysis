{
 "cells": [
  {
   "cell_type": "code",
   "execution_count": 1,
   "id": "21809f74",
   "metadata": {},
   "outputs": [
    {
     "name": "stdout",
     "output_type": "stream",
     "text": [
      "Defaulting to user installation because normal site-packages is not writeable\n",
      "Requirement already satisfied: biopython in c:\\users\\meriem\\appdata\\roaming\\python\\python312\\site-packages (1.84)\n",
      "Requirement already satisfied: numpy in c:\\users\\meriem\\appdata\\roaming\\python\\python312\\site-packages (from biopython) (2.1.2)\n"
     ]
    },
    {
     "name": "stderr",
     "output_type": "stream",
     "text": [
      "\n",
      "[notice] A new release of pip is available: 24.2 -> 24.3.1\n",
      "[notice] To update, run: python.exe -m pip install --upgrade pip\n"
     ]
    }
   ],
   "source": [
    "!pip install biopython"
   ]
  },
  {
   "cell_type": "code",
   "execution_count": 2,
   "id": "4fc14ebf",
   "metadata": {},
   "outputs": [
    {
     "name": "stderr",
     "output_type": "stream",
     "text": [
      "C:\\Users\\meriem\\AppData\\Roaming\\Python\\Python312\\site-packages\\Bio\\pairwise2.py:278: BiopythonDeprecationWarning: Bio.pairwise2 has been deprecated, and we intend to remove it in a future release of Biopython. As an alternative, please consider using Bio.Align.PairwiseAligner as a replacement, and contact the Biopython developers if you still need the Bio.pairwise2 module.\n",
      "  warnings.warn(\n"
     ]
    }
   ],
   "source": [
    "from Bio import SeqIO, Entrez\n",
    "from Bio import pairwise2\n",
    "from Bio.pairwise2 import format_alignment"
   ]
  },
  {
   "cell_type": "code",
   "execution_count": 3,
   "id": "07296897",
   "metadata": {},
   "outputs": [],
   "source": [
    "def affichage(sequence):\n",
    "    print(f\"id :{sequence.id}\")\n",
    "    print(f\"longeur : {len(sequence.seq)}\")\n",
    "    print(f\"séquence : {sequence.seq}\")\n",
    "\n",
    "\n",
    "def get_seq_by_id(seq_id):\n",
    "    handle = Entrez.efetch(db=\"nucleotide\", id=seq_id, rettype=\"fasta\", retmode=\"text\")\n",
    "    seq_record2 = SeqIO.read(handle, \"fasta\")\n",
    "    handle.close()\n",
    "    return seq_record2"
   ]
  },
  {
   "cell_type": "code",
   "execution_count": 4,
   "id": "2db55196",
   "metadata": {},
   "outputs": [
    {
     "name": "stdout",
     "output_type": "stream",
     "text": [
      "id :NM_001376256.1\n",
      "longeur : 1244\n",
      "séquence : GCGGTGCGGAGACTGAGGTTAGAAGGCACAGGTGGCGAGATGAGCCGGGTACCAGCGTTCCTGAGCGCGGCCGAGGTGGAGGAACACCTCCGCAGCTCCAGCCTCCTCATCCCGCCTCTAGAGACGGCCCTGGCCAACTTCTCCAGCGGTCCCGAAGGAGGGGTCATGCAGCCCGTGCGCACCGTGGTGCCGGTGACCAAGCACAGGGGCTACCTGGGGGTCATGCCCGCCTACAGTGCTGCAGAGGATGCACTGACCACCAAGTTGGTCACCTTCTACGAGGACCGCGGCATCACCTCGGTCGTCCCTTCCCACCAGGCTACTGTGCTACTCTTTGAGCCCAGCAATGGCACCCTGCTGGCGGTCATGGATGGAAATGTCATAACTGCAAAGAGAACAGCTGCAGTTTCTGCCATTGCCACCAAGTTTCTGAAACCTCCCAGCAGTGAAGTGCTGTGCATCCTTGGGGCTGGGGTCCAGGCCTACAGCCATTATGAGATCTTCACAGAGCAGTTCTCCTTTAAGGAGGTGAGGATATGGAACCGCACCAAAGAAAATGCAGAGAAGTTTGCAGACACAGTGCAAGGAGAGGTACGGGTCTGTTCTTCGGTCCAGGAGGCTGTGGCAGGTGCAGATGTGATCATCACAGTCACCCTGGCAACAGAGCCCATTTTGTTTGGTGAATGGGTGAAGCCAGGGGCTCACATCAATGCTGTTGGAGCCAGCAGACCTGACTGGAGAGAACTGGATGATGAGCTCATGAAAGAAGCTGTGCTGTACGTGGATTCCCAGGAGGCTGCCCTGAAGGAGTCTGGAGATGTCCTGCTGTCAGGGGCCGAGATCTTTGCTGAGCTGGGAGAAGTGATTAAGGGAGTGAAACCAGCCCACTGTGAGAAGACCACCGTGTTCAAGTCTTTGGGAATGGCAGTGGAAGACACAGTTGCAGCCAAACTCATCTATGATTCCTGGTCATCTGGTAAATAAAACAAAGGAACTTGATGTTGAGATGGATGCTTGAGGAATATTGCTGCTGGTTCTCATAATTTCTAGAGTAAATGAGGGAGTCCAGTCCCCAGTGAACTCTCCTTTTGTGCTTATCATGTTTTACCTTAAATGCTGAGATCCTCATTTATGTTTGTAGTTGGAAAGCAAAGCTAGGTAGCCATTTCTTCTGTTCTACCAAGTTATAATAGCATTCATTTCCCTTTATATTTCCCTGAAATAAAGCACATTCCAATTGTGCA\n"
     ]
    }
   ],
   "source": [
    "#question 1\n",
    "#\"C://Users//Trust_pc_dz//Documents//BIOINFORMATIQUE//TPBIOINF//FASTA//sequence.fasta\"\n",
    "fasta_file = \"sequence.fasta\"\n",
    "\n",
    "for seq_record in SeqIO.parse(fasta_file, \"fasta\"):\n",
    "    affichage(seq_record)\n"
   ]
  },
  {
   "cell_type": "code",
   "execution_count": 5,
   "id": "28eb4102",
   "metadata": {},
   "outputs": [
    {
     "name": "stdout",
     "output_type": "stream",
     "text": [
      "id :M57671.1\n",
      "longeur : 432\n",
      "séquence : GCATTCTGAGGCATTCTCTAACAGGTTCTCGACCCTCCGCCATGGCCCCGTGGATGCATCTCCTCACCGTGCTGGCCCTGCTGGCCCTCTGGGGACCCAACTCTGTTCAGGCCTATTCCAGCCAGCACCTGTGCGGCTCCAACCTAGTGGAGGCACTGTACATGACATGTGGACGGAGTGGCTTCTATAGACCCCACGACCGCCGAGAGCTGGAGGACCTCCAGGTGGAGCAGGCAGAACTGGGTCTGGAGGCAGGCGGCCTGCAGCCTTCGGCCCTGGAGATGATTCTGCAGAAGCGCGGCATTGTGGATCAGTGCTGTAATAACATTTGCACATTTAACCAGCTGCAGAACTACTGCAATGTCCCTTAGACACCTGCCTTGGGCCTGGCCTGCTGCTCTGCCCTGGCAACCAATAAACCCCTTGAATGAG\n"
     ]
    }
   ],
   "source": [
    "#question 2\n",
    "Entrez.email = \"rezkk.amina@gmail.com\"\n",
    "seq_id=\"M57671.1\"\n",
    "sequence = get_seq_by_id(seq_id)\n",
    "\n",
    "affichage(sequence)"
   ]
  },
  {
   "cell_type": "code",
   "execution_count": 6,
   "id": "21ef49d7",
   "metadata": {},
   "outputs": [
    {
     "name": "stdout",
     "output_type": "stream",
     "text": [
      "GGCATTC-TCTAA\n",
      "|| ||.| ||| .\n",
      "GG-ATGCATCT-C\n",
      "  Score=0\n",
      "\n",
      "GGCATTC-TCTAA\n",
      "|| ||.| |||. \n",
      "GG-ATGCATCTC-\n",
      "  Score=0\n",
      "\n"
     ]
    }
   ],
   "source": [
    "seq1 = \"GGCATTCTCTAA\"\n",
    "seq2 = \"GGATGCATCTC\"\n",
    "\n",
    "#sequence.seq, seq_record.seq\n",
    "#match = 1 otherwise 0 xx\n",
    "# mx(match, mismatch, gap)\n",
    "#this methode finds the best concordance between all characters in two sequences.\n",
    "alignments = pairwise2.align.globalms(seq1, seq2, 1, -1, -2, -2)\n",
    "\n",
    "# Affichage \n",
    "for alignment in alignments:\n",
    "    print(format_alignment(*alignment))"
   ]
  },
  {
   "cell_type": "code",
   "execution_count": 7,
   "id": "0c65647c",
   "metadata": {},
   "outputs": [
    {
     "name": "stdout",
     "output_type": "stream",
     "text": [
      "Fréquence de A : 0.20\n",
      "Fréquence de T : 0.22\n",
      "Fréquence de C : 0.31\n",
      "Fréquence de G : 0.28\n"
     ]
    }
   ],
   "source": [
    "A_count = sequence.count('A')\n",
    "T_count = sequence.count('T')\n",
    "C_count = sequence.count('C')\n",
    "G_count = sequence.count('G')\n",
    "\n",
    "# longueur totale \n",
    "total_length = len(sequence)\n",
    "\n",
    "# les fréquences de chaque base\n",
    "A_freq = A_count / total_length\n",
    "T_freq = T_count / total_length\n",
    "C_freq = C_count / total_length\n",
    "G_freq = G_count / total_length\n",
    "\n",
    "# Affichage\n",
    "print(f\"Fréquence de A : {A_freq:.2f}\")\n",
    "print(f\"Fréquence de T : {T_freq:.2f}\")\n",
    "print(f\"Fréquence de C : {C_freq:.2f}\")\n",
    "print(f\"Fréquence de G : {G_freq:.2f}\")"
   ]
  }
 ],
 "metadata": {
  "kernelspec": {
   "display_name": "Python 3",
   "language": "python",
   "name": "python3"
  },
  "language_info": {
   "codemirror_mode": {
    "name": "ipython",
    "version": 3
   },
   "file_extension": ".py",
   "mimetype": "text/x-python",
   "name": "python",
   "nbconvert_exporter": "python",
   "pygments_lexer": "ipython3",
   "version": "3.12.4"
  }
 },
 "nbformat": 4,
 "nbformat_minor": 5
}
