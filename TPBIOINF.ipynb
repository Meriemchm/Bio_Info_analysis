{
 "cells": [
  {
   "cell_type": "code",
   "execution_count": 208,
   "metadata": {},
   "outputs": [],
   "source": [
    "from Bio import SeqIO, Entrez\n",
    "import os\n"
   ]
  },
  {
   "cell_type": "code",
   "execution_count": 209,
   "metadata": {},
   "outputs": [],
   "source": [
    "def affichage(sequence,seg_list):\n",
    "    print(f\"id :{sequence.id}\")\n",
    "    print(f\"longeur : {len(sequence.seq)}\")\n",
    "    seg_list.append(sequence.seq)\n",
    "    print(f\"séquence : {sequence.seq}\")"
   ]
  },
  {
   "cell_type": "code",
   "execution_count": 210,
   "metadata": {},
   "outputs": [
    {
     "name": "stdout",
     "output_type": "stream",
     "text": [
      "SARS-cov\n"
     ]
    }
   ],
   "source": [
    "fasta_folder = \"SARS-cov\"\n",
    "print(fasta_folder)\n"
   ]
  },
  {
   "cell_type": "code",
   "execution_count": 211,
   "metadata": {},
   "outputs": [
    {
     "name": "stdout",
     "output_type": "stream",
     "text": [
      "SARS-cov\n",
      "-------------------------------- SARS-cov\\sequence_2020.fasta --------------------\n",
      "id :pdb|8UYP|A\n",
      "longeur : 143\n",
      "séquence : NGTTGACAAGAAACGAGTAACTCGTCCCTCTTCTGCAGACTGCTTACGGTTTCGTCCGTGTTGCAGTCGATCATCAGCATACCTAGGTTTCGTCCGGGTGTGACCGAAAGGTAAGATGGAGAGCCTTGTTCTTGGTGTCAACC\n",
      "-------------------------------- SARS-cov\\sequence_2021.fasta --------------------\n",
      "id :pdb|7O7Z|AH\n",
      "longeur : 220\n",
      "séquence : CAACTTGTGCTAATGACCCTGTGGGTTTTACACTTAAAAACACAGTCTGTACCGTCTGCGGTATGTGGAAAGGTTATGGCTGTAGTTGTGATCAACTCCGCGAACCCATGCTTCAGTCAGCTGATGCACAATCGTTTTTATAAGGGTTTGCGGTGTAAGTGCAGCCCGTCTTACACCGTGCGGCACAGGCACTAGTACTGATGTCGTATACAGGGCTTTT\n",
      "-------------------------------- SARS-cov\\sequence_2023.fasta --------------------\n",
      "id :MT798849.1\n",
      "longeur : 156\n",
      "séquence : CCTACTAAATTAAATGATCTCTGCTTTACTAATGTCTATGCAGATTCATTTGTAATTAGAGGTGATGAAGTCAGACAAATCGCTCCAGGGCAAACTGGAAAGATTGCTGATTATAATTATAAATTACCAGATGATTTTACAGGCTGCGTTATAGCT\n"
     ]
    }
   ],
   "source": [
    "fasta_folder = \"SARS-cov\"\n",
    "print(fasta_folder)\n",
    "\n",
    "seg_list = []\n",
    "\n",
    "for fasta_file in os.listdir(fasta_folder):\n",
    "    fasta_path = os.path.join(fasta_folder, fasta_file)\n",
    "    print('--------------------------------',fasta_path,'--------------------')\n",
    "    for seq_record in SeqIO.parse(fasta_path, \"fasta\"):\n",
    "        affichage(seq_record,seg_list)"
   ]
  },
  {
   "cell_type": "code",
   "execution_count": 219,
   "metadata": {},
   "outputs": [
    {
     "name": "stdout",
     "output_type": "stream",
     "text": [
      "NGTTGACAAGAAACGAGTAACTCGTCCCTCTTCTGCAGACTGCTTACGGTTTCGTCCGTGTTGCAGTCGATCATCAGCATACCTAGGTTTCGTCCGGGTGTGACCGAAAGGTAAGATGGAGAGCCTTGTTCTTGGTGTCAACC\n"
     ]
    }
   ],
   "source": [
    "print(seg_list[0])"
   ]
  },
  {
   "cell_type": "code",
   "execution_count": 212,
   "metadata": {},
   "outputs": [],
   "source": [
    "def explore_alignments(i, j, current_align1, current_align2,alignments,score_matrix,seq1,seq2):\n",
    "    # Condition d'arrêt\n",
    "    if i < 2 and j < 2:\n",
    "        alignments.append((current_align1, current_align2))\n",
    "        return\n",
    "\n",
    "    diag = score_matrix[i - 1][j - 1] if i > 0 and j > 0 else float('-inf')\n",
    "    up = score_matrix[i - 1][j] if i > 0 else float('-inf')\n",
    "    left = score_matrix[i][j - 1] if j > 0 else float('-inf')\n",
    "\n",
    "    max_value = max(diag, up, left)\n",
    "\n",
    "    if max_value == diag:\n",
    "        explore_alignments(i - 1, j - 1, seq1[i - 2] + current_align1, seq2[j - 2] + current_align2,alignments,score_matrix,seq1,seq2)\n",
    "    if max_value == up:\n",
    "        explore_alignments(i - 1, j, seq1[i - 2] + current_align1, '-' + current_align2,alignments,score_matrix,seq1,seq2)\n",
    "    if max_value == left:\n",
    "        explore_alignments(i, j - 1, '-' + current_align1, seq2[j - 2] + current_align2,alignments,score_matrix,seq1,seq2)\n",
    "\n",
    "    return alignments    \n"
   ]
  },
  {
   "cell_type": "code",
   "execution_count": 213,
   "metadata": {},
   "outputs": [],
   "source": [
    "def global_alignment(seq1, seq2, match, mismatch, gap):\n",
    "\n",
    "    n = len(seq1) + 1\n",
    "    m = len(seq2) + 1\n",
    "\n",
    "    score_matrix = [[0] * m for _ in range(n)]\n",
    "    print(score_matrix)\n",
    "    # traceback_matrix = [[None] * m for _ in range(n)]\n",
    "\n",
    "    # Rempli gap\n",
    "    for i in range(1, n):\n",
    "        score_matrix[i][0] = score_matrix[i - 1][0] + gap\n",
    "        # traceback_matrix[i][0] = 'up'\n",
    "    for j in range(1, m):\n",
    "        score_matrix[0][j] = score_matrix[0][j - 1] + gap\n",
    "        # traceback_matrix[0][j] = 'left'\n",
    "\n",
    "\n",
    "    for i in range(1, n):\n",
    "        for j in range(1, m):\n",
    "            if seq1[i - 1] == seq2[j - 1]:\n",
    "                score = match\n",
    "            else:\n",
    "                score = mismatch\n",
    "\n",
    "            #best score\n",
    "            diag = score_matrix[i - 1][j - 1] + score\n",
    "            up = score_matrix[i - 1][j] + gap\n",
    "            left = score_matrix[i][j - 1] + gap\n",
    "            max_score = max(diag, up, left)\n",
    "            score_matrix[i][j] = max_score\n",
    "\n",
    "            # if max_score == diag:\n",
    "            #     traceback_matrix[i][j] = 'diag'\n",
    "            # elif max_score == up:\n",
    "            #     traceback_matrix[i][j] = 'up'\n",
    "            # else:\n",
    "            #     traceback_matrix[i][j] = 'left'\n",
    "\n",
    "    alignments = []  \n",
    "    i, j = n - 1, m - 1\n",
    "    initial_align1 = seq1[i-1]  \n",
    "    initial_align2 = seq2[j-1]  \n",
    "\n",
    "    alignments = explore_alignments(i, j, initial_align1, initial_align2,alignments,score_matrix,seq1,seq2)\n",
    "                    \n",
    "    print(\"Matrice de score :\")\n",
    "    for row in score_matrix:\n",
    "        print(row)    \n",
    "    \n",
    "    return alignments, score_matrix[n - 1][m - 1]\n",
    "\n",
    "\n"
   ]
  },
  {
   "cell_type": "code",
   "execution_count": 214,
   "metadata": {},
   "outputs": [],
   "source": [
    "def local_alignment(seq1, seq2, match, mismatch, gap):\n",
    "    n = len(seq1) + 1\n",
    "    m = len(seq2) + 1\n",
    "\n",
    "    score_matrix = [[0] * m for _ in range(n)]\n",
    "\n",
    "    # max_pos = (0, 0)\n",
    "    \n",
    "    for i in range(1, n):\n",
    "        for j in range(1, m):\n",
    "            if seq1[i - 1] == seq2[j - 1]:\n",
    "                score = match\n",
    "            else:\n",
    "                score = mismatch\n",
    "\n",
    "            diag = score_matrix[i - 1][j - 1] + score\n",
    "            up = score_matrix[i - 1][j] + gap\n",
    "            left = score_matrix[i][j - 1] + gap\n",
    "            \n",
    "            score_matrix[i][j] = max(0, diag, up, left)\n",
    "            \n",
    "            # # Track maximum score position\n",
    "            # if score_matrix[i][j] > max_score:\n",
    "            #     max_score = score_matrix[i][j]\n",
    "\n",
    "    diag = score_matrix[n - 1][m - 1]\n",
    "    up = score_matrix[n - 2][m-1]\n",
    "    left = score_matrix[n-1][m - 2]\n",
    "    score_final = max(diag,up,left) \n",
    "\n",
    "    if  score_final == diag:\n",
    "        i, j = n - 1, m - 1\n",
    "        initial_align1 = seq1[i-1]  \n",
    "        initial_align2 = seq2[j-1]\n",
    "    elif   score_final == up:\n",
    "        i, j = n - 2, m - 1\n",
    "        initial_align1 = seq1[i-2]  \n",
    "        initial_align2 = seq2[j-1]\n",
    "    elif score_final == left: \n",
    "        i, j = n - 1, m - 2 \n",
    "        initial_align1 = seq1[i-1]  \n",
    "        initial_align2 = seq2[j-2]   \n",
    "\n",
    "\n",
    "    alignments = []  \n",
    "      \n",
    "\n",
    "    alignments = explore_alignments(i, j, initial_align1, initial_align2,alignments,score_matrix,seq1,seq2)\n",
    "       \n",
    "    print(\"Matrice de score :\")\n",
    "    for row in score_matrix:\n",
    "        print(row)\n",
    "    \n",
    "    return alignments, score_final\n"
   ]
  },
  {
   "cell_type": "code",
   "execution_count": 215,
   "metadata": {},
   "outputs": [],
   "source": [
    "def calculate_score(align1, align2, match, mismatch, gap):\n",
    "    score = 0\n",
    "    for a, b in zip(align1, align2):\n",
    "        if a == '-' or b == '-':\n",
    "            score += gap\n",
    "        elif a == b:\n",
    "            score += match\n",
    "        else:\n",
    "            score += mismatch\n",
    "    return score"
   ]
  },
  {
   "cell_type": "code",
   "execution_count": 221,
   "metadata": {},
   "outputs": [
    {
     "name": "stdout",
     "output_type": "stream",
     "text": [
      "[[0, 0, 0, 0, 0, 0, 0, 0, 0], [0, 0, 0, 0, 0, 0, 0, 0, 0], [0, 0, 0, 0, 0, 0, 0, 0, 0], [0, 0, 0, 0, 0, 0, 0, 0, 0], [0, 0, 0, 0, 0, 0, 0, 0, 0], [0, 0, 0, 0, 0, 0, 0, 0, 0], [0, 0, 0, 0, 0, 0, 0, 0, 0], [0, 0, 0, 0, 0, 0, 0, 0, 0], [0, 0, 0, 0, 0, 0, 0, 0, 0]]\n",
      "Matrice de score :\n",
      "[0, -2, -4, -6, -8, -10, -12, -14, -16]\n",
      "[-2, 2, 0, -2, -4, -6, -8, -10, -12]\n",
      "[-4, 0, 4, 2, 0, -2, -4, -6, -8]\n",
      "[-6, -2, 2, 3, 4, 2, 0, -2, -4]\n",
      "[-8, -4, 0, 1, 2, 3, 1, -1, -3]\n",
      "[-10, -6, -2, 2, 0, 1, 2, 0, 1]\n",
      "[-12, -8, -4, 0, 1, -1, 0, 1, 2]\n",
      "[-14, -10, -6, -2, -1, 0, -2, -1, 3]\n",
      "[-16, -12, -8, -4, -3, -2, -1, -3, 1]\n",
      "Score de la matrice : 1\n",
      "Alignement de la séquence 1 : ('AC-GT--CCCT', 'ACCGAGA---C')\n",
      "Alignement de la séquence 2 : ('AC-GTC-CCT', 'ACCGAGA--C')\n",
      "[('AC-GT--CCCT', 'ACCGAGA---C', 'score = -8'), ('AC-GTC-CCT', 'ACCGAGA--C', 'score = -5')]\n"
     ]
    }
   ],
   "source": [
    "# Exemple d'utilisation\n",
    "seq1 = \"ACGTCCCT\"\n",
    "seq2 = \"ACCGAGAC\"\n",
    "\n",
    "alignments, score = global_alignment(seq1, seq2,2,-1,-2)\n",
    "print(\"Score de la matrice :\", score)\n",
    "print(\"Alignement de la séquence 1 :\", alignments[0])\n",
    "print(\"Alignement de la séquence 2 :\", alignments[1])\n",
    "scored_alignments = [(align1, align2, f'score = {calculate_score(align1, align2,2,-1,-2)}' ) for align1, align2 in alignments]\n",
    "print(scored_alignments)\n"
   ]
  },
  {
   "cell_type": "code",
   "execution_count": 217,
   "metadata": {},
   "outputs": [
    {
     "name": "stdout",
     "output_type": "stream",
     "text": [
      "Matrice de score :\n",
      "[0, 0, 0, 0, 0, 0, 0, 0, 0]\n",
      "[0, 2, 0, 0, 0, 2, 0, 2, 0]\n",
      "[0, 0, 4, 2, 0, 0, 1, 0, 4]\n",
      "[0, 0, 2, 3, 4, 2, 2, 0, 2]\n",
      "[0, 0, 0, 1, 2, 3, 1, 1, 0]\n",
      "[0, 0, 2, 2, 0, 1, 2, 0, 3]\n",
      "[0, 0, 2, 4, 2, 0, 0, 1, 2]\n",
      "[0, 0, 2, 4, 3, 1, 0, 0, 3]\n",
      "[0, 0, 0, 2, 3, 2, 0, 0, 1]\n",
      "Score de la matrice : 3\n",
      "Alignement de la séquence 1 : [('AC---GTCCC', 'ACCGAGA--C')]\n",
      "[('AC---GTCCC', 'ACCGAGA--C', 'score = -3')]\n"
     ]
    }
   ],
   "source": [
    "alignments, score = local_alignment(seq1, seq2,2,-1,-2)\n",
    "print(\"Score de la matrice :\", score)\n",
    "print(\"Alignement de la séquence 1 :\", alignments)\n",
    "scored_alignments = [(align1, align2, f'score = {calculate_score(align1, align2,2,-1,-2)}' ) for align1, align2 in alignments]\n",
    "print(scored_alignments)\n"
   ]
  }
 ],
 "metadata": {
  "kernelspec": {
   "display_name": "Python 3",
   "language": "python",
   "name": "python3"
  },
  "language_info": {
   "codemirror_mode": {
    "name": "ipython",
    "version": 3
   },
   "file_extension": ".py",
   "mimetype": "text/x-python",
   "name": "python",
   "nbconvert_exporter": "python",
   "pygments_lexer": "ipython3",
   "version": "3.12.4"
  }
 },
 "nbformat": 4,
 "nbformat_minor": 2
}
