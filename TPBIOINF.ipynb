{
 "cells": [
  {
   "cell_type": "code",
   "execution_count": 36,
   "metadata": {},
   "outputs": [],
   "source": [
    "from Bio import SeqIO, Entrez\n",
    "import os\n"
   ]
  },
  {
   "cell_type": "code",
   "execution_count": 37,
   "metadata": {},
   "outputs": [],
   "source": [
    "def affichage(sequence,seg_list):\n",
    "    print(f\"id :{sequence.id}\")\n",
    "    print(f\"longeur : {len(sequence.seq)}\")\n",
    "    seg_list.append(sequence.seq)\n",
    "    print(f\"séquence : {sequence.seq}\")"
   ]
  },
  {
   "cell_type": "code",
   "execution_count": 38,
   "metadata": {},
   "outputs": [],
   "source": [
    "def explore_alignments(i, j, current_align1, current_align2,alignments,score_matrix,seq1,seq2):\n",
    "    # Condition d'arrêt\n",
    "    if i < 2 and j < 2 :\n",
    "        alignments.append((current_align1, current_align2))\n",
    "        return\n",
    "\n",
    "    diag = score_matrix[i - 1][j - 1] if i > 0 and j > 0 else float('-inf')\n",
    "    up = score_matrix[i - 1][j] if i > 0 else float('-inf')\n",
    "    left = score_matrix[i][j - 1] if j > 0 else float('-inf')\n",
    "\n",
    "    max_value = max(diag, up, left)\n",
    "    if max_value == diag:\n",
    "        if i>1 and j>1 :\n",
    "        \n",
    "            explore_alignments(i - 1, j - 1, seq1[i -2] + current_align1, seq2[j -2] + current_align2,alignments,score_matrix,seq1,seq2)\n",
    "        elif j<1 : \n",
    "            explore_alignments(i - 1, j - 1, seq1[i -2] + current_align1, '-' + current_align2,alignments,score_matrix,seq1,seq2)\n",
    "        elif i<1:\n",
    "             explore_alignments(i - 1, j - 1, '-' + current_align1, seq2[j -2] + current_align2,alignments,score_matrix,seq1,seq2)\n",
    "\n",
    "    if max_value == up:\n",
    "        explore_alignments(i - 1, j, seq1[i -2] + current_align1, '-' + current_align2,alignments,score_matrix,seq1,seq2)\n",
    "    if max_value == left:\n",
    "        explore_alignments(i, j - 1, '-' + current_align1, seq2[j -2] + current_align2,alignments,score_matrix,seq1,seq2)\n",
    "\n",
    "    return alignments    \n"
   ]
  },
  {
   "cell_type": "code",
   "execution_count": 39,
   "metadata": {},
   "outputs": [],
   "source": [
    "def global_alignment(seq1, seq2, match=2, mismatch=-1, gap=-1):\n",
    "\n",
    "    n = len(seq1) + 1\n",
    "    m = len(seq2) + 1\n",
    "\n",
    "    score_matrix = [[0] * m for _ in range(n)]\n",
    "    print(score_matrix)\n",
    "    # traceback_matrix = [[None] * m for _ in range(n)]\n",
    "\n",
    "    # Rempli gap\n",
    "    for i in range(1, n):\n",
    "        score_matrix[i][0] = score_matrix[i - 1][0] + gap\n",
    "        # traceback_matrix[i][0] = 'up'\n",
    "    for j in range(1, m):\n",
    "        score_matrix[0][j] = score_matrix[0][j - 1] + gap\n",
    "        # traceback_matrix[0][j] = 'left'\n",
    "\n",
    "\n",
    "    for i in range(1, n):\n",
    "        for j in range(1, m):\n",
    "            if seq1[i - 1] == seq2[j - 1]:\n",
    "                score = match\n",
    "            else:\n",
    "                score = mismatch\n",
    "\n",
    "            #best score\n",
    "            diag = score_matrix[i - 1][j - 1] + score\n",
    "            up = score_matrix[i - 1][j] + gap\n",
    "            left = score_matrix[i][j - 1] + gap\n",
    "            max_score = max(diag, up, left)\n",
    "            score_matrix[i][j] = max_score\n",
    "\n",
    "            # if max_score == diag:\n",
    "            #     traceback_matrix[i][j] = 'diag'\n",
    "            # elif max_score == up:\n",
    "            #     traceback_matrix[i][j] = 'up'\n",
    "            # else:\n",
    "            #     traceback_matrix[i][j] = 'left'\n",
    "\n",
    "    alignments = []  \n",
    "    i, j = n - 1, m - 1\n",
    "    initial_align1 = seq1[i-1]  \n",
    "    initial_align2 = seq2[j-1]  \n",
    "\n",
    "    alignments = explore_alignments(i, j, initial_align1, initial_align2,alignments,score_matrix,seq1,seq2)\n",
    "                    \n",
    "    print(\"Matrice de score :\")\n",
    "    for row in score_matrix:\n",
    "        print(row)    \n",
    "    \n",
    "    return alignments, score_matrix[n - 1][m - 1]\n",
    "\n",
    "\n"
   ]
  },
  {
   "cell_type": "code",
   "execution_count": 40,
   "metadata": {},
   "outputs": [],
   "source": [
    "def local_alignment(seq1, seq2, match, mismatch, gap):\n",
    "    n = len(seq1) + 1\n",
    "    m = len(seq2) + 1\n",
    "\n",
    "    score_matrix = [[0] * m for _ in range(n)]\n",
    "\n",
    "    # max_pos = (0, 0)\n",
    "    \n",
    "    for i in range(1, n):\n",
    "        for j in range(1, m):\n",
    "            if seq1[i - 1] == seq2[j - 1]:\n",
    "                score = match\n",
    "            else:\n",
    "                score = mismatch\n",
    "\n",
    "            diag = score_matrix[i - 1][j - 1] + score\n",
    "            up = score_matrix[i - 1][j] + gap\n",
    "            left = score_matrix[i][j - 1] + gap\n",
    "            \n",
    "            score_matrix[i][j] = max(0,diag, up, left)\n",
    "            \n",
    "            # # Track maximum score position\n",
    "            # if score_matrix[i][j] > max_score:\n",
    "            #     max_score = score_matrix[i][j]\n",
    "\n",
    "    End = score_matrix[n - 1][m - 1]\n",
    "    diag = score_matrix[n - 2][m - 2]\n",
    "    up = score_matrix[n - 2][m-1]\n",
    "    left = score_matrix[n-1][m - 2]\n",
    "    score_final = max(diag,up,left,End) \n",
    "\n",
    "    if  score_final == End:\n",
    "        i, j = n - 1, m - 1\n",
    "        initial_align1 = seq1[i-1]  \n",
    "        initial_align2 = seq2[j-1]\n",
    "    elif   score_final == diag:\n",
    "        i, j = n - 2, m - 1\n",
    "        initial_align1 = seq1[i-2]  \n",
    "        initial_align2 = seq2[j-2]        \n",
    "    elif   score_final == up:\n",
    "        i, j = n - 2, m - 1\n",
    "        initial_align1 = seq1[i-2]  \n",
    "        initial_align2 = seq2[j-1]\n",
    "    elif score_final == left: \n",
    "        i, j = n - 1, m - 2 \n",
    "        initial_align1 = seq1[i-1]  \n",
    "        initial_align2 = seq2[j-2]   \n",
    "\n",
    "\n",
    "    alignments = []  \n",
    "      \n",
    "\n",
    "    alignments = explore_alignments(i, j, initial_align1, initial_align2,alignments,score_matrix,seq1,seq2)\n",
    "       \n",
    "    print(\"Matrice de score :\")\n",
    "    for row in score_matrix:\n",
    "        print(row)\n",
    "    \n",
    "    return alignments, score_final\n"
   ]
  },
  {
   "cell_type": "code",
   "execution_count": 41,
   "metadata": {},
   "outputs": [],
   "source": [
    "def calculate_score(align1, align2, match, mismatch, gap):\n",
    "    score = 0\n",
    "    for a, b in zip(align1, align2):\n",
    "        if a == '-' or b == '-':\n",
    "            score += gap\n",
    "        elif a == b:\n",
    "            score += match\n",
    "        else:\n",
    "            score += mismatch\n",
    "    return score"
   ]
  },
  {
   "cell_type": "code",
   "execution_count": 42,
   "metadata": {},
   "outputs": [
    {
     "name": "stdout",
     "output_type": "stream",
     "text": [
      "[[0, 0, 0, 0, 0, 0], [0, 0, 0, 0, 0, 0], [0, 0, 0, 0, 0, 0], [0, 0, 0, 0, 0, 0], [0, 0, 0, 0, 0, 0]]\n",
      "Matrice de score :\n",
      "[0, -1, -2, -3, -4, -5]\n",
      "[-1, -1, 1, 0, -1, -2]\n",
      "[-2, -2, 0, 3, 2, 1]\n",
      "[-3, -3, -1, 2, 2, 1]\n",
      "[-4, -4, -2, 1, 4, 4]\n",
      "Score de la matrice : 4\n",
      "Alignement de la séquence 1 : [('-CTT-G', 'AC-TGG'), ('-CTT-G', 'ACT-GG')]\n",
      "[('-CTT-G', 'AC-TGG', 'score = 3'), ('-CTT-G', 'ACT-GG', 'score = 3')]\n"
     ]
    }
   ],
   "source": [
    "# Exemple d'utilisation\n",
    "seq1 = \"CTTG\"\n",
    "seq2 = \"ACTGG\"\n",
    "alignments, score = global_alignment(seq1, seq2,2,-1,-1)\n",
    "print(\"Score de la matrice :\", score)\n",
    "print(\"Alignement de la séquence 1 :\", alignments)\n",
    "scored_alignments = [(align1, align2, f'score = {calculate_score(align1, align2,2,-1,-1)}' ) for align1, align2 in alignments]\n",
    "print(scored_alignments)\n"
   ]
  },
  {
   "cell_type": "markdown",
   "metadata": {},
   "source": []
  },
  {
   "cell_type": "code",
   "execution_count": 43,
   "metadata": {},
   "outputs": [
    {
     "name": "stdout",
     "output_type": "stream",
     "text": [
      "Matrice de score :\n",
      "[0, 0, 0, 0, 0, 0]\n",
      "[0, 0, 2, 0, 0, 0]\n",
      "[0, 0, 0, 4, 2, 0]\n",
      "[0, 0, 0, 2, 3, 1]\n",
      "[0, 0, 0, 0, 4, 5]\n",
      "Score de la matrice : 5\n",
      "Alignement de la séquence 1 : [('-GCTT-G', 'A-CT-GG'), ('-CTT-G', 'ACT-GG')]\n",
      "[('-GCTT-G', 'A-CT-GG', 'score = -2'), ('-CTT-G', 'ACT-GG', 'score = 0')]\n"
     ]
    }
   ],
   "source": [
    "alignments, score = local_alignment(seq1, seq2,2,-1,-2)\n",
    "print(\"Score de la matrice :\", score)\n",
    "print(\"Alignement de la séquence 1 :\", alignments)\n",
    "scored_alignments = [(align1, align2, f'score = {calculate_score(align1, align2,2,-1,-2)}' ) for align1, align2 in alignments]\n",
    "print(scored_alignments)\n"
   ]
  },
  {
   "cell_type": "code",
   "execution_count": 1,
   "metadata": {},
   "outputs": [
    {
     "name": "stdout",
     "output_type": "stream",
     "text": [
      "['I1', 'I2']\n"
     ]
    }
   ],
   "source": [
    "sequences = [([0], [1]), ([2], [0, 1])] \n",
    "labels = [f\"I{i+1}\" for i in range(len(sequences))]\n",
    "print(labels)"
   ]
  },
  {
   "cell_type": "code",
   "execution_count": 3,
   "metadata": {},
   "outputs": [
    {
     "name": "stdout",
     "output_type": "stream",
     "text": [
      "[0, 1, 2, 3]\n"
     ]
    }
   ],
   "source": [
    "sequences = [\"ACTGG\", \"ACTTGG\", \"ACTGC\", \"CTTG\"]  \n",
    "labels = [i for i in range(len(sequences))]\n",
    "print(labels)"
   ]
  }
 ],
 "metadata": {
  "kernelspec": {
   "display_name": "Python 3",
   "language": "python",
   "name": "python3"
  },
  "language_info": {
   "codemirror_mode": {
    "name": "ipython",
    "version": 3
   },
   "file_extension": ".py",
   "mimetype": "text/x-python",
   "name": "python",
   "nbconvert_exporter": "python",
   "pygments_lexer": "ipython3",
   "version": "3.12.4"
  }
 },
 "nbformat": 4,
 "nbformat_minor": 2
}
